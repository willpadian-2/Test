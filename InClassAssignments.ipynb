{
  "nbformat": 4,
  "nbformat_minor": 0,
  "metadata": {
    "colab": {
      "provenance": [],
      "authorship_tag": "ABX9TyMmFxclAZKfFaifVJnFnltp",
      "include_colab_link": true
    },
    "kernelspec": {
      "name": "python3",
      "display_name": "Python 3"
    },
    "language_info": {
      "name": "python"
    }
  },
  "cells": [
    {
      "cell_type": "markdown",
      "metadata": {
        "id": "view-in-github",
        "colab_type": "text"
      },
      "source": [
        "<a href=\"https://colab.research.google.com/github/willpadian-2/Test/blob/main/InClassAssignments.ipynb\" target=\"_parent\"><img src=\"https://colab.research.google.com/assets/colab-badge.svg\" alt=\"Open In Colab\"/></a>"
      ]
    },
    {
      "cell_type": "code",
      "execution_count": null,
      "metadata": {
        "id": "DSqN3_sPBBw-",
        "colab": {
          "base_uri": "https://localhost:8080/"
        },
        "outputId": "e5cc96d3-4663-47a9-83ba-52eed4d80acd"
      },
      "outputs": [
        {
          "output_type": "stream",
          "name": "stdout",
          "text": [
            "Please provide the radius:5\n",
            "Please provide the height:6\n",
            "Area of cylinder: 345.4 sq. ft\n"
          ]
        }
      ],
      "source": [
        "pi = 3.14\n",
        "radius = float(input('Please provide the radius:'))\n",
        "height = float(input('Please provide the height:'))\n",
        "\n",
        "area = 2 * pi * radius ** 2 + 2 * pi * radius * height\n",
        "\n",
        "print(f'Area of cylinder: {area} sq. ft')"
      ]
    },
    {
      "cell_type": "code",
      "source": [
        "n1 = float(input('Please provide the first number:'))\n",
        "n2 = float(input('Please provide the second number:'))\n",
        "s = input('Please provide the operator:')\n",
        "\n",
        "if s == '+':\n",
        "  print(f'{n1} + {n2} = {n1 + n2}')\n",
        "elif s == '-':\n",
        "  print(f'{n1} - {n2} = {n1 - n2}')\n",
        "elif s == '*':\n",
        "  print(f'{n1} * {n2} = {n1 * n2}')\n",
        "elif s == '/':\n",
        "  print(f'{n1} / {n2} = {n1 / n2}')\n",
        "elif s == '%':\n",
        "  print(f'{n1} % {n2} = {n1 % n2}')\n",
        "elif s == '**':\n",
        "  print(f'{n1} ** {n2} = {n1 ** n2}')\n",
        "elif s == '//':\n",
        "  print(f'{n1} // {n2} = {n1 // n2}')\n",
        "else:\n",
        "  print('Invalid operator')"
      ],
      "metadata": {
        "id": "w093mFEhGYP_",
        "colab": {
          "base_uri": "https://localhost:8080/"
        },
        "outputId": "c5aae3bb-584e-4c17-fede-b716c1ee9678"
      },
      "execution_count": null,
      "outputs": [
        {
          "output_type": "stream",
          "name": "stdout",
          "text": [
            "Please provide the first number:35\n",
            "Please provide the second number:6\n",
            "Please provide the operator:/\n",
            "35.0 / 6.0 = 5.833333333333333\n"
          ]
        }
      ]
    },
    {
      "cell_type": "code",
      "source": [
        "x = 10\n",
        "if x % 2 == 0:\n",
        "  result = 'Even'\n",
        "else:\n",
        "  result = 'Odd'\n",
        "print(result)"
      ],
      "metadata": {
        "colab": {
          "base_uri": "https://localhost:8080/"
        },
        "id": "9CJWbXIqxxv9",
        "outputId": "4ea0c1f3-655e-4318-f4aa-a1cd90b3ce49"
      },
      "execution_count": null,
      "outputs": [
        {
          "output_type": "stream",
          "name": "stdout",
          "text": [
            "Even\n"
          ]
        }
      ]
    },
    {
      "cell_type": "code",
      "source": [
        "for numberHours in range(1, 9):\n",
        "  fee = 5 + 2.5 * numberHours\n",
        "  if fee < 10:\n",
        "    fee = 10.0\n",
        "  elif fee < 20:\n",
        "    fee = 20.0\n",
        "  print(f'Hours: {numberHours} Fee: {fee}')"
      ],
      "metadata": {
        "id": "yNzAC9AqyP2v",
        "colab": {
          "base_uri": "https://localhost:8080/"
        },
        "outputId": "a41c5c59-83ab-40cf-9984-32053a930379"
      },
      "execution_count": 2,
      "outputs": [
        {
          "output_type": "stream",
          "name": "stdout",
          "text": [
            "Hours: 1 Fee: 10.0\n",
            "Hours: 2 Fee: 20.0\n",
            "Hours: 3 Fee: 20.0\n",
            "Hours: 4 Fee: 20.0\n",
            "Hours: 5 Fee: 20.0\n",
            "Hours: 6 Fee: 20.0\n",
            "Hours: 7 Fee: 22.5\n",
            "Hours: 8 Fee: 25.0\n"
          ]
        }
      ]
    },
    {
      "cell_type": "code",
      "source": [
        "for adMoney in range(0, 201, 25):\n",
        "  revenue = (20 + 2 * round(adMoney ** .5)) * 10\n",
        "  costs = 200 + adMoney\n",
        "  profit = revenue - costs\n",
        "  print(adMoney, '\\t', profit)"
      ],
      "metadata": {
        "colab": {
          "base_uri": "https://localhost:8080/"
        },
        "id": "SFXc6fszeb6X",
        "outputId": "c3010fe8-624b-4835-8a4b-b9ff8ea4add3"
      },
      "execution_count": 8,
      "outputs": [
        {
          "output_type": "stream",
          "name": "stdout",
          "text": [
            "0 \t 0\n",
            "25 \t 75\n",
            "50 \t 90\n",
            "75 \t 105\n",
            "100 \t 100\n",
            "125 \t 95\n",
            "150 \t 90\n",
            "175 \t 85\n",
            "200 \t 80\n"
          ]
        }
      ]
    }
  ]
}